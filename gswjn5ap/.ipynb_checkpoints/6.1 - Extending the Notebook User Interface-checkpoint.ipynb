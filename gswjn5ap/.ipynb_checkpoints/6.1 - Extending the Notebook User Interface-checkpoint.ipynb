{
 "cells": [
  {
   "cell_type": "markdown",
   "id": "ecc1e61c",
   "metadata": {},
   "source": [
    "# Widgets\n",
    "\n",
    "Jupyter Notebooks supports the embedding of JavaScript controls in the notebook\n",
    "\n",
    "* This enables a more user friendly interface for our python experiments\n",
    "* This allows us to modify output of a cell without editing any code"
   ]
  },
  {
   "cell_type": "code",
   "execution_count": 1,
   "id": "daf18d9a",
   "metadata": {},
   "outputs": [],
   "source": [
    "from ipywidgets import interact # Base set of jupyter notebook widgets"
   ]
  },
  {
   "cell_type": "markdown",
   "id": "8528ab8c",
   "metadata": {},
   "source": [
    "The interact function is going to take a function which will compute the return value of a widget"
   ]
  },
  {
   "cell_type": "code",
   "execution_count": 2,
   "id": "8964ee56",
   "metadata": {},
   "outputs": [],
   "source": [
    "# Begin with an identity function which will simply echo the functions input\n",
    "def ident(val):\n",
    "    return val"
   ]
  },
  {
   "cell_type": "code",
   "execution_count": 3,
   "id": "8e6ec075",
   "metadata": {},
   "outputs": [
    {
     "data": {
      "application/vnd.jupyter.widget-view+json": {
       "model_id": "7c8e0194002f485699ba2f55e62784a7",
       "version_major": 2,
       "version_minor": 0
      },
      "text/plain": [
       "interactive(children=(IntSlider(value=10, description='val', max=30, min=-10), Output()), _dom_classes=('widge…"
      ]
     },
     "metadata": {},
     "output_type": "display_data"
    },
    {
     "data": {
      "text/plain": [
       "<function __main__.ident(val)>"
      ]
     },
     "execution_count": 3,
     "metadata": {},
     "output_type": "execute_result"
    }
   ],
   "source": [
    "interact(ident, val=10)"
   ]
  },
  {
   "cell_type": "markdown",
   "id": "6a8bc7ed",
   "metadata": {},
   "source": [
    "The interact function will render a widget based on the type of the val keywork arg.\n",
    "* For numerical values, it will display a slider (see above)\n",
    "\n",
    "Notice that the slider is labelled with the name of the parameter to the ident function."
   ]
  },
  {
   "cell_type": "code",
   "execution_count": 4,
   "id": "ac28d686",
   "metadata": {},
   "outputs": [],
   "source": [
    "def ident2(val):\n",
    "    return val + 1"
   ]
  },
  {
   "cell_type": "code",
   "execution_count": 5,
   "id": "18300a8a",
   "metadata": {},
   "outputs": [
    {
     "data": {
      "application/vnd.jupyter.widget-view+json": {
       "model_id": "f13af8b481e54ee089050cf53f598628",
       "version_major": 2,
       "version_minor": 0
      },
      "text/plain": [
       "interactive(children=(IntSlider(value=500, description='val', max=1000, step=100), Output()), _dom_classes=('w…"
      ]
     },
     "metadata": {},
     "output_type": "display_data"
    },
    {
     "data": {
      "text/plain": [
       "<function __main__.ident2(val)>"
      ]
     },
     "execution_count": 5,
     "metadata": {},
     "output_type": "execute_result"
    }
   ],
   "source": [
    "interact(ident2, val=(0, 1000, 100))"
   ]
  },
  {
   "cell_type": "markdown",
   "id": "77b12484",
   "metadata": {},
   "source": [
    "Notice above that by passing a tuple of values to the keyword arg, we can specify a min, max, and step value.\n",
    "\n",
    "We can also have a function that takes more than one param (see below):"
   ]
  },
  {
   "cell_type": "code",
   "execution_count": 6,
   "id": "fc6bbfdb",
   "metadata": {},
   "outputs": [],
   "source": [
    "def add(a, b):\n",
    "    return a + b"
   ]
  },
  {
   "cell_type": "code",
   "execution_count": 7,
   "id": "299a1345",
   "metadata": {},
   "outputs": [
    {
     "data": {
      "application/vnd.jupyter.widget-view+json": {
       "model_id": "317bd067f932406eb24a3a3222866228",
       "version_major": 2,
       "version_minor": 0
      },
      "text/plain": [
       "interactive(children=(IntSlider(value=10, description='a', max=30, min=-10), IntSlider(value=20, description='…"
      ]
     },
     "metadata": {},
     "output_type": "display_data"
    },
    {
     "data": {
      "text/plain": [
       "<function __main__.add(a, b)>"
      ]
     },
     "execution_count": 7,
     "metadata": {},
     "output_type": "execute_result"
    }
   ],
   "source": [
    "interact(add, a=10, b=20)"
   ]
  },
  {
   "cell_type": "markdown",
   "id": "5aec5ce2",
   "metadata": {},
   "source": [
    "This results in two sliders: one for each numeric keyword argument."
   ]
  },
  {
   "cell_type": "markdown",
   "id": "73177bce",
   "metadata": {},
   "source": [
    "Interfaces however are more diverse than sliders, and actionable data types are more diverse than numbers.\n",
    "\n",
    "Below we will see an example of a `string` passed as a keyword arg."
   ]
  },
  {
   "cell_type": "code",
   "execution_count": 8,
   "id": "2dae1976",
   "metadata": {},
   "outputs": [],
   "source": [
    "def ident(val):\n",
    "    return val"
   ]
  },
  {
   "cell_type": "code",
   "execution_count": 9,
   "id": "489beebf",
   "metadata": {},
   "outputs": [
    {
     "data": {
      "application/vnd.jupyter.widget-view+json": {
       "model_id": "dd782e95a09a4166a97b2a849f197f90",
       "version_major": 2,
       "version_minor": 0
      },
      "text/plain": [
       "interactive(children=(Text(value='hello', description='val'), Output()), _dom_classes=('widget-interact',))"
      ]
     },
     "metadata": {},
     "output_type": "display_data"
    },
    {
     "data": {
      "text/plain": [
       "<function __main__.ident(val)>"
      ]
     },
     "execution_count": 9,
     "metadata": {},
     "output_type": "execute_result"
    }
   ],
   "source": [
    "interact(ident, val='hello')"
   ]
  },
  {
   "cell_type": "code",
   "execution_count": 10,
   "id": "1e3683e6",
   "metadata": {},
   "outputs": [],
   "source": [
    "def my_len(s):\n",
    "    return len(s)"
   ]
  },
  {
   "cell_type": "code",
   "execution_count": 11,
   "id": "07c6fc6f",
   "metadata": {},
   "outputs": [
    {
     "data": {
      "application/vnd.jupyter.widget-view+json": {
       "model_id": "ad79d880f5aa4a418c4caf7d6d6bef4d",
       "version_major": 2,
       "version_minor": 0
      },
      "text/plain": [
       "interactive(children=(Text(value='hello', description='s'), Output()), _dom_classes=('widget-interact',))"
      ]
     },
     "metadata": {},
     "output_type": "display_data"
    },
    {
     "data": {
      "text/plain": [
       "<function __main__.my_len(s)>"
      ]
     },
     "execution_count": 11,
     "metadata": {},
     "output_type": "execute_result"
    }
   ],
   "source": [
    "interact(my_len, s=\"hello\")"
   ]
  },
  {
   "cell_type": "markdown",
   "id": "7b6dbb44",
   "metadata": {},
   "source": [
    "Note below that passing a boolean value will result in a checkbox"
   ]
  },
  {
   "cell_type": "code",
   "execution_count": 12,
   "id": "6c1af1a5",
   "metadata": {},
   "outputs": [
    {
     "data": {
      "application/vnd.jupyter.widget-view+json": {
       "model_id": "4af032f4502242cfba4a90645b08dfd0",
       "version_major": 2,
       "version_minor": 0
      },
      "text/plain": [
       "interactive(children=(Checkbox(value=True, description='val'), Output()), _dom_classes=('widget-interact',))"
      ]
     },
     "metadata": {},
     "output_type": "display_data"
    },
    {
     "data": {
      "text/plain": [
       "<function __main__.ident(val)>"
      ]
     },
     "execution_count": 12,
     "metadata": {},
     "output_type": "execute_result"
    }
   ],
   "source": [
    "interact(ident, val=True)"
   ]
  },
  {
   "cell_type": "markdown",
   "id": "7b8d0139",
   "metadata": {},
   "source": [
    "Further, we can create a drop-down box by passing a list as the keyword argument:"
   ]
  },
  {
   "cell_type": "code",
   "execution_count": 13,
   "id": "3cd86af6",
   "metadata": {},
   "outputs": [
    {
     "data": {
      "application/vnd.jupyter.widget-view+json": {
       "model_id": "5f073e273df346289793eb5bb54a700e",
       "version_major": 2,
       "version_minor": 0
      },
      "text/plain": [
       "interactive(children=(Dropdown(description='val', options=('small', 'medium', 'large'), value='small'), Output…"
      ]
     },
     "metadata": {},
     "output_type": "display_data"
    },
    {
     "data": {
      "text/plain": [
       "<function __main__.ident(val)>"
      ]
     },
     "execution_count": 13,
     "metadata": {},
     "output_type": "execute_result"
    }
   ],
   "source": [
    "interact(ident, val=['small', 'medium', 'large'])"
   ]
  },
  {
   "cell_type": "markdown",
   "id": "95206692",
   "metadata": {},
   "source": [
    "Can also pass a dictionary to allow the return value to be a different but associated value:"
   ]
  },
  {
   "cell_type": "code",
   "execution_count": 14,
   "id": "678aa174",
   "metadata": {},
   "outputs": [
    {
     "data": {
      "application/vnd.jupyter.widget-view+json": {
       "model_id": "c16f07586cbd4f94b2bb514380dd2dcb",
       "version_major": 2,
       "version_minor": 0
      },
      "text/plain": [
       "interactive(children=(Dropdown(description='val', options={'small': 0, 'medium': 1, 'large': 3}, value=0), Out…"
      ]
     },
     "metadata": {},
     "output_type": "display_data"
    },
    {
     "data": {
      "text/plain": [
       "<function __main__.ident(val)>"
      ]
     },
     "execution_count": 14,
     "metadata": {},
     "output_type": "execute_result"
    }
   ],
   "source": [
    "interact(ident, val={'small':0, 'medium':1, 'large':3})"
   ]
  },
  {
   "cell_type": "markdown",
   "id": "1d4f0c78",
   "metadata": {},
   "source": [
    "There are 37 different widgets maintained in the IPyWidgets package...\n",
    "* Letting Jupyter infer which one is to be used is not always appropriate, thus sometimes we need to explicily instantiate them.\n",
    "\n",
    "Notice we were initially allowing Jupyter to infer the correct widget based on our input...\n",
    "* Recall our first import statement:\n",
    "`from ipywidgets import interact`\n",
    "\n",
    "This import statement allowed the widgets to infer how to handle the display based on our input... mainly that the default numeric slider (of the type `int slider`) was to be used... and if the initial value inputted was a floating point, it would utilize a `float slider`...\n",
    "\n",
    "Note however, that there is also a range slider that has two handles, and the value of the range slider is the range in between them.\n",
    "* To create one of these, it must be explicitly instantiated: (see below) "
   ]
  },
  {
   "cell_type": "code",
   "execution_count": 15,
   "id": "791bc8ff",
   "metadata": {},
   "outputs": [],
   "source": [
    "import ipywidgets as widgets"
   ]
  },
  {
   "cell_type": "code",
   "execution_count": 16,
   "id": "86a6023d",
   "metadata": {},
   "outputs": [
    {
     "data": {
      "application/vnd.jupyter.widget-view+json": {
       "model_id": "65dd4832211f4eb4aeb02b05af1d258f",
       "version_major": 2,
       "version_minor": 0
      },
      "text/plain": [
       "interactive(children=(IntRangeSlider(value=(-10, 20), description='val', max=50, min=-50), Output()), _dom_cla…"
      ]
     },
     "metadata": {},
     "output_type": "display_data"
    },
    {
     "data": {
      "text/plain": [
       "<function __main__.ident(val)>"
      ]
     },
     "execution_count": 16,
     "metadata": {},
     "output_type": "execute_result"
    }
   ],
   "source": [
    "interact(ident, val=widgets.IntRangeSlider(min=-50, max=50, value=[-10, 20]))"
   ]
  },
  {
   "cell_type": "markdown",
   "id": "4cc2cbc5",
   "metadata": {},
   "source": [
    "Below we see another example of explicit instantiation with the call to `widgets.ColorPicker`"
   ]
  },
  {
   "cell_type": "code",
   "execution_count": 17,
   "id": "642b1800",
   "metadata": {},
   "outputs": [
    {
     "data": {
      "application/vnd.jupyter.widget-view+json": {
       "model_id": "82d013ddecc348ef9e4fea2ad53caf2e",
       "version_major": 2,
       "version_minor": 0
      },
      "text/plain": [
       "interactive(children=(ColorPicker(value='green', description='val'), Output()), _dom_classes=('widget-interact…"
      ]
     },
     "metadata": {},
     "output_type": "display_data"
    },
    {
     "data": {
      "text/plain": [
       "<function __main__.ident(val)>"
      ]
     },
     "execution_count": 17,
     "metadata": {},
     "output_type": "execute_result"
    }
   ],
   "source": [
    "interact(ident, val=widgets.ColorPicker(value='green'))"
   ]
  },
  {
   "cell_type": "markdown",
   "id": "eb0048e6",
   "metadata": {},
   "source": [
    "Lastly, note that you can apply interact using a decorator\n",
    "* There is nothing different about this method aside from syntactic preference (sugar)\n",
    "* The results remain the same "
   ]
  },
  {
   "cell_type": "code",
   "execution_count": 18,
   "id": "b92df9ee",
   "metadata": {},
   "outputs": [
    {
     "data": {
      "application/vnd.jupyter.widget-view+json": {
       "model_id": "5038f59e41514ad9a9e1d3f4ebcc9f13",
       "version_major": 2,
       "version_minor": 0
      },
      "text/plain": [
       "interactive(children=(IntSlider(value=5, description='a', max=15, min=-5), IntSlider(value=10, description='b'…"
      ]
     },
     "metadata": {},
     "output_type": "display_data"
    }
   ],
   "source": [
    "@interact(a=5, b=10)\n",
    "def add(a,b):\n",
    "    return a + b"
   ]
  },
  {
   "cell_type": "markdown",
   "id": "b20ed75b",
   "metadata": {},
   "source": [
    "The remaining related notebooks: `6.1, 6.2,..., 6.x` will cover more detailed discussion on how to create interactive dashboards inside of Jupyter Notebooks using widgets."
   ]
  }
 ],
 "metadata": {
  "kernelspec": {
   "display_name": "Python 3 (ipykernel)",
   "language": "python",
   "name": "python3"
  },
  "language_info": {
   "codemirror_mode": {
    "name": "ipython",
    "version": 3
   },
   "file_extension": ".py",
   "mimetype": "text/x-python",
   "name": "python",
   "nbconvert_exporter": "python",
   "pygments_lexer": "ipython3",
   "version": "3.9.13"
  }
 },
 "nbformat": 4,
 "nbformat_minor": 5
}
