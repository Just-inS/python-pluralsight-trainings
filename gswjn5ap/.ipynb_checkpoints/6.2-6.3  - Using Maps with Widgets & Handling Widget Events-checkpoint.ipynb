{
 "cells": [
  {
   "cell_type": "markdown",
   "id": "9b602661",
   "metadata": {},
   "source": [
    "# Using Maps with Widgets"
   ]
  },
  {
   "cell_type": "code",
   "execution_count": 1,
   "id": "67caba96",
   "metadata": {},
   "outputs": [],
   "source": [
    "from ipyleaflet import Map"
   ]
  },
  {
   "cell_type": "code",
   "execution_count": 2,
   "id": "db3b761e",
   "metadata": {},
   "outputs": [],
   "source": [
    "Map?"
   ]
  },
  {
   "cell_type": "code",
   "execution_count": 3,
   "id": "f2b3e259",
   "metadata": {
    "scrolled": true
   },
   "outputs": [
    {
     "data": {
      "application/vnd.jupyter.widget-view+json": {
       "model_id": "b6d4fc10415e44bb91310c638dbe1487",
       "version_major": 2,
       "version_minor": 0
      },
      "text/plain": [
       "Map(center=[36.1744, -86.7679], controls=(ZoomControl(options=['position', 'zoom_in_text', 'zoom_in_title', 'z…"
      ]
     },
     "metadata": {},
     "output_type": "display_data"
    }
   ],
   "source": [
    "# Create a map centered on Nashville with Zoom level 10\n",
    "\n",
    "m = Map(center=[36.1744, -86.7679],zoom = 10)\n",
    "m"
   ]
  },
  {
   "cell_type": "markdown",
   "id": "b3098964",
   "metadata": {},
   "source": [
    "# Handling Widget Events\n",
    "\n",
    "The interact function is just one way to work with Jupyter Notebook widgets.\n",
    "\n",
    "Sometimes the interactive control is not obv from the type of the corresponding value, and some controls are too complex to be infered. Thus, JN allows us to have more control over the configuration and display of widgets."
   ]
  },
  {
   "cell_type": "code",
   "execution_count": 4,
   "id": "5d4a5e83",
   "metadata": {},
   "outputs": [],
   "source": [
    "import ipywidgets as widgets"
   ]
  },
  {
   "cell_type": "code",
   "execution_count": 5,
   "id": "d7ae9fb0",
   "metadata": {},
   "outputs": [],
   "source": [
    "widgets?"
   ]
  },
  {
   "cell_type": "code",
   "execution_count": 6,
   "id": "8a4d5502",
   "metadata": {},
   "outputs": [],
   "source": [
    "city = widgets.Dropdown(options = [\"Chattanooga\", \"Knoxville\", \"Memphis\", \"Nashville\"], value = \"Nashville\")"
   ]
  },
  {
   "cell_type": "code",
   "execution_count": 7,
   "id": "7dd89792",
   "metadata": {},
   "outputs": [
    {
     "data": {
      "application/vnd.jupyter.widget-view+json": {
       "model_id": "aaf331e0627948568e0d4c52c6e515b7",
       "version_major": 2,
       "version_minor": 0
      },
      "text/plain": [
       "Dropdown(index=3, options=('Chattanooga', 'Knoxville', 'Memphis', 'Nashville'), value='Nashville')"
      ]
     },
     "metadata": {},
     "output_type": "display_data"
    }
   ],
   "source": [
    "from IPython.display import display\n",
    "\n",
    "display(city)"
   ]
  },
  {
   "cell_type": "code",
   "execution_count": 8,
   "id": "8d70a4d9",
   "metadata": {},
   "outputs": [
    {
     "data": {
      "text/plain": [
       "'Nashville'"
      ]
     },
     "execution_count": 8,
     "metadata": {},
     "output_type": "execute_result"
    }
   ],
   "source": [
    "city.value # Getting the selected value"
   ]
  },
  {
   "cell_type": "code",
   "execution_count": 9,
   "id": "17e54251",
   "metadata": {},
   "outputs": [
    {
     "data": {
      "text/plain": [
       "'Knoxville'"
      ]
     },
     "execution_count": 9,
     "metadata": {},
     "output_type": "execute_result"
    }
   ],
   "source": [
    "# city.value = 'Pittsburgh' # Setting the value - Note: Must come from predefined list\n",
    "\n",
    "city.value = 'Knoxville'\n",
    "city.value"
   ]
  },
  {
   "cell_type": "markdown",
   "id": "664680be",
   "metadata": {},
   "source": [
    "Widgets can also react to events. For example there is a button widget:"
   ]
  },
  {
   "cell_type": "code",
   "execution_count": 10,
   "id": "f45de688",
   "metadata": {},
   "outputs": [
    {
     "data": {
      "application/vnd.jupyter.widget-view+json": {
       "model_id": "55e502e46c8d42c194b53f29ffcef069",
       "version_major": 2,
       "version_minor": 0
      },
      "text/plain": [
       "Button(description='Take Action', style=ButtonStyle())"
      ]
     },
     "metadata": {},
     "output_type": "display_data"
    }
   ],
   "source": [
    "btn = widgets.Button(description = 'Take Action')\n",
    "display(btn)"
   ]
  },
  {
   "cell_type": "code",
   "execution_count": 11,
   "id": "f8f4103c",
   "metadata": {},
   "outputs": [],
   "source": [
    "# Making the button do something\n",
    "import datetime\n",
    "def btn_clicked(b):\n",
    "    print(datetime.datetime.now().strftime('%I:%M:%S %p'))"
   ]
  },
  {
   "cell_type": "code",
   "execution_count": 12,
   "id": "14c90164",
   "metadata": {},
   "outputs": [],
   "source": [
    "widgets.Button?\n",
    "\n",
    "btn.on_click(btn_clicked)"
   ]
  },
  {
   "cell_type": "markdown",
   "id": "c601b13e",
   "metadata": {},
   "source": [
    "Let's revisit the dropdown widget.\n",
    "\n",
    "The dropdown widget exposes the observe method\n",
    "* This method takes a func that will be invoked when the value of the dropdown changes\n",
    "* The func will be passed a value (called a 'bunch') with information about the changes that took place"
   ]
  },
  {
   "cell_type": "code",
   "execution_count": 13,
   "id": "f54944f1",
   "metadata": {},
   "outputs": [],
   "source": [
    "widgets.Dropdown.observe?"
   ]
  },
  {
   "cell_type": "code",
   "execution_count": 14,
   "id": "3cf3d3e8",
   "metadata": {},
   "outputs": [
    {
     "data": {
      "application/vnd.jupyter.widget-view+json": {
       "model_id": "aaf331e0627948568e0d4c52c6e515b7",
       "version_major": 2,
       "version_minor": 0
      },
      "text/plain": [
       "Dropdown(index=1, options=('Chattanooga', 'Knoxville', 'Memphis', 'Nashville'), value='Knoxville')"
      ]
     },
     "metadata": {},
     "output_type": "display_data"
    }
   ],
   "source": [
    "display(city)"
   ]
  },
  {
   "cell_type": "code",
   "execution_count": 15,
   "id": "9a6f496f",
   "metadata": {},
   "outputs": [],
   "source": [
    "def city_observer(bunch):\n",
    "    print(bunch)"
   ]
  },
  {
   "cell_type": "code",
   "execution_count": 16,
   "id": "540739fa",
   "metadata": {},
   "outputs": [],
   "source": [
    "city.observe(city_observer, names = 'value')"
   ]
  }
 ],
 "metadata": {
  "kernelspec": {
   "display_name": "Python 3 (ipykernel)",
   "language": "python",
   "name": "python3"
  },
  "language_info": {
   "codemirror_mode": {
    "name": "ipython",
    "version": 3
   },
   "file_extension": ".py",
   "mimetype": "text/x-python",
   "name": "python",
   "nbconvert_exporter": "python",
   "pygments_lexer": "ipython3",
   "version": "3.9.13"
  }
 },
 "nbformat": 4,
 "nbformat_minor": 5
}
