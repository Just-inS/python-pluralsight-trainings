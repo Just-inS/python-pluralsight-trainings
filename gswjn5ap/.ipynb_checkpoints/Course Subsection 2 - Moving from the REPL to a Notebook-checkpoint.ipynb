{
 "cells": [
  {
   "cell_type": "code",
   "execution_count": 1,
   "id": "558903f5",
   "metadata": {},
   "outputs": [
    {
     "name": "stdout",
     "output_type": "stream",
     "text": [
      "Hello Jupyter Notebook\n"
     ]
    }
   ],
   "source": [
    "print('Hello Jupyter Notebook') # Can Run a cell with the shortcut 'shift+enter'"
   ]
  },
  {
   "cell_type": "code",
   "execution_count": 3,
   "id": "178c941f",
   "metadata": {},
   "outputs": [],
   "source": [
    "import os # Exposes an API for working with the file system"
   ]
  },
  {
   "cell_type": "code",
   "execution_count": 6,
   "id": "616307b8",
   "metadata": {},
   "outputs": [
    {
     "data": {
      "text/plain": [
       "['README.md', '.ipynb_checkpoints', 'Untitled.ipynb']"
      ]
     },
     "execution_count": 6,
     "metadata": {},
     "output_type": "execute_result"
    }
   ],
   "source": [
    "os.listdir() # List contents of current directory\n",
    "\n",
    "# Text completion can be accomplished with Tab\n",
    "files = os.listdir()\n",
    "files"
   ]
  },
  {
   "cell_type": "code",
   "execution_count": 4,
   "id": "49b7ae0c",
   "metadata": {},
   "outputs": [
    {
     "name": "stdout",
     "output_type": "stream",
     "text": [
      "4\n"
     ]
    }
   ],
   "source": [
    "import datetime\n",
    "today = datetime.datetime.now()\n",
    "\n",
    "print(today.day)"
   ]
  },
  {
   "cell_type": "code",
   "execution_count": 5,
   "id": "b80c4be6",
   "metadata": {},
   "outputs": [
    {
     "name": "stdout",
     "output_type": "stream",
     "text": [
      "2022-10-04 22:00:02.289341\n"
     ]
    }
   ],
   "source": [
    "print(datetime.datetime.now())"
   ]
  },
  {
   "cell_type": "code",
   "execution_count": null,
   "id": "8d6ddec2",
   "metadata": {},
   "outputs": [],
   "source": [
    "datetime.datetime() # Can hold Shift-Tab when currsor is over argument to see description of parameters"
   ]
  },
  {
   "cell_type": "code",
   "execution_count": null,
   "id": "cfe70c80",
   "metadata": {},
   "outputs": [],
   "source": []
  }
 ],
 "metadata": {
  "kernelspec": {
   "display_name": "Python 3 (ipykernel)",
   "language": "python",
   "name": "python3"
  },
  "language_info": {
   "codemirror_mode": {
    "name": "ipython",
    "version": 3
   },
   "file_extension": ".py",
   "mimetype": "text/x-python",
   "name": "python",
   "nbconvert_exporter": "python",
   "pygments_lexer": "ipython3",
   "version": "3.9.12"
  }
 },
 "nbformat": 4,
 "nbformat_minor": 5
}
